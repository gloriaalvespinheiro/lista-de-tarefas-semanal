{
  "cells": [
    {
      "cell_type": "markdown",
      "metadata": {
        "id": "view-in-github",
        "colab_type": "text"
      },
      "source": [
        "<a href=\"https://colab.research.google.com/github/gloriaalvespinheiro/lista-de-tarefas-semanal/blob/main/C%C3%B3pia_de_Lista_de_Tarefas_para_os_dias_da_semana.ipynb\" target=\"_parent\"><img src=\"https://colab.research.google.com/assets/colab-badge.svg\" alt=\"Open In Colab\"/></a>"
      ]
    },
    {
      "cell_type": "code",
      "execution_count": null,
      "metadata": {
        "colab": {
          "background_save": true,
          "base_uri": "https://localhost:8080/"
        },
        "id": "-z-yMkwdz1aI",
        "outputId": "977bc010-a46f-4695-a492-1f587375508b"
      },
      "outputs": [
        {
          "metadata": {
            "tags": null
          },
          "name": "stdout",
          "output_type": "stream",
          "text": [
            "\n",
            "O que você gostaria de fazer?\n",
            "1. Adicionar tarefa\n",
            "2. Visualizar tarefas\n",
            "3. Marcar tarefa como concluída\n",
            "4. Remover tarefa\n",
            "5. Sair\n"
          ]
        }
      ],
      "source": [
        "# Inicializa uma lista vazia para armazenar as tarefas\n",
        "tarefas = []\n",
        "\n",
        "def adicionar_tarefa(tarefa, dia_da_semana):\n",
        "    \"\"\"\n",
        "    Adiciona uma nova tarefa à lista de tarefas.\n",
        "\n",
        "    Args:\n",
        "        tarefa (str): O texto da tarefa a ser adicionada.\n",
        "        dia_da_semana (str): O dia da semana para a tarefa (ex: \"Segunda\", \"Terça\", etc.).\n",
        "    \"\"\"\n",
        "    dias_validos = [\"Segunda\", \"Terça\", \"Quarta\", \"Quinta\", \"Sexta\", \"Sábado\", \"Domingo\"]\n",
        "    if dia_da_semana not in dias_validos:\n",
        "        print(\"Dia da semana inválido. Por favor, use: Segunda, Terça, Quarta, Quinta, Sexta, Sábado ou Domingo.\")\n",
        "        return\n",
        "    tarefas.append({\"tarefa\": tarefa, \"concluida\": False, \"dia_da_semana\": dia_da_semana})\n",
        "    print(f'Tarefa \"{tarefa}\" adicionada para {dia_da_semana} com sucesso!')\n",
        "\n",
        "def visualizar_tarefas():\n",
        "    \"\"\"\n",
        "    Exibe todas as tarefas na lista de tarefas, mostrando seu status e dia da semana.\n",
        "    \"\"\"\n",
        "    if not tarefas:\n",
        "        print(\"Sua lista de tarefas está vazia.\")\n",
        "        return\n",
        "    print(\"\\n--- Sua Lista de Tarefas ---\")\n",
        "    for indice, tarefa in enumerate(tarefas):\n",
        "        status = \"[✓]\" if tarefa[\"concluida\"] else \"[ ]\"\n",
        "        print(f\"{indice + 1}. {status} {tarefa['tarefa']} - {tarefa['dia_da_semana']}\")\n",
        "    print(\"---------------------------\\n\")\n",
        "\n",
        "def marcar_concluida(indice):\n",
        "    \"\"\"\n",
        "    Marca uma tarefa como concluída, dado o seu índice na lista.\n",
        "\n",
        "    Args:\n",
        "        indice (int): O índice da tarefa a ser marcada como concluída.\n",
        "    \"\"\"\n",
        "    try:\n",
        "        indice = int(indice) - 1  # Ajusta o índice para começar do 0\n",
        "        if 0 <= indice < len(tarefas):\n",
        "            tarefas[indice][\"concluida\"] = True\n",
        "            print(f'Tarefa \"{tarefas[indice][\"tarefa\"]}\" marcada como concluída!')\n",
        "        else:\n",
        "            print(\"Número de tarefa inválido.\")\n",
        "    except ValueError:\n",
        "        print(\"Por favor, digite um número válido.\")\n",
        "\n",
        "def remover_tarefa(indice):\n",
        "    \"\"\"\n",
        "    Remove uma tarefa da lista de tarefas, dado o seu índice.\n",
        "\n",
        "    Args:\n",
        "        indice (int): O índice da tarefa a ser removida.\n",
        "    \"\"\"\n",
        "    try:\n",
        "        indice = int(indice) - 1 # Ajusta o índice para começar do 0\n",
        "        if 0 <= indice < len(tarefas):\n",
        "            tarefa_removida = tarefas.pop(indice)\n",
        "            print(f'Tarefa \"{tarefa_removida[\"tarefa\"]}\" removida com sucesso!')\n",
        "        else:\n",
        "            print(\"Número da tarefa inválido.\")\n",
        "    except ValueError:\n",
        "        print(\"Por favor, digite um número válido.\")\n",
        "\n",
        "# Loop principal do programa\n",
        "while True:\n",
        "    print(\"\\nO que você gostaria de fazer?\")\n",
        "    print(\"1. Adicionar tarefa\")\n",
        "    print(\"2. Visualizar tarefas\")\n",
        "    print(\"3. Marcar tarefa como concluída\")\n",
        "    print(\"4. Remover tarefa\")\n",
        "    print(\"5. Sair\")\n",
        "\n",
        "    opcao = input(\"Digite o número da opção desejada: \")\n",
        "\n",
        "    if opcao == '1':\n",
        "        nova_tarefa = input(\"Digite a nova tarefa: \")\n",
        "        dia_da_semana = input(\"Digite o dia da semana (Segunda, Terça, Quarta, Quinta, Sexta, Sábado, Domingo): \")\n",
        "        adicionar_tarefa(nova_tarefa, dia_da_semana)\n",
        "    elif opcao == '2':\n",
        "        visualizar_tarefas()\n",
        "    elif opcao == '3':\n",
        "        visualizar_tarefas()\n",
        "        numero_tarefa = input(\"Digite o número da tarefa que deseja marcar como concluída: \")\n",
        "        marcar_concluida(numero_tarefa)\n",
        "    elif opcao == '4':\n",
        "        visualizar_tarefas()\n",
        "        numero_tarefa = input(\"Digite o número da tarefa que deseja remover: \")\n",
        "        remover_tarefa(numero_tarefa)\n",
        "    elif opcao == '5':\n",
        "        print(\"Saindo do programa. Até mais!\")\n",
        "        break\n",
        "    else:\n",
        "        print(\"Opção inválida. Por favor, tente novamente.\")"
      ]
    }
  ],
  "metadata": {
    "colab": {
      "provenance": [],
      "include_colab_link": true
    },
    "kernelspec": {
      "display_name": "Python 3",
      "name": "python3"
    }
  },
  "nbformat": 4,
  "nbformat_minor": 0
}